{
  "nbformat": 4,
  "nbformat_minor": 0,
  "metadata": {
    "colab": {
      "name": "Pertemuan14DataMining(Cross_Validation).ipynb",
      "provenance": [],
      "collapsed_sections": []
    },
    "kernelspec": {
      "name": "python3",
      "display_name": "Python 3"
    },
    "language_info": {
      "name": "python"
    }
  },
  "cells": [
    {
      "cell_type": "code",
      "metadata": {
        "colab": {
          "base_uri": "https://localhost:8080/"
        },
        "id": "4Ac87nlp1-c9",
        "outputId": "74cff9ac-c567-4da7-8b4b-25247c2a611e"
      },
      "source": [
        "# Sumber : https://machinelearningmastery.com/repeated-k-fold-cross-validation-with-python/\n",
        "# Evaluate a logistic regression model using k-fold cross-validation\n",
        "from numpy import mean                              #mencari rata2\n",
        "from numpy import std                               #standar deviasi\n",
        "from sklearn.datasets import make_classification    #ambil data (1000 data) dari scikit learn ambil yang bagian make_classification\n",
        "from sklearn.model_selection import KFold           #KFold ambil dari scikit learn pada model selection\n",
        "from sklearn.model_selection import cross_val_score #untuk mengabil nilai cross validationnya ambil dari scikit learn pada model selection\n",
        "from sklearn.linear_model import LogisticRegression #Logistic Regressionnya ambil dari scikit learn pada linear model\n",
        "# create dataset\n",
        "X, y = make_classification(n_samples=1000, n_features=20, n_informative=15,\n",
        "                           n_redundant=5, random_state=1)\n",
        "# prepare the cross-validation procedure\n",
        "cv = KFold(n_splits=10, random_state=1, shuffle=True) # 10x pengujian\n",
        "# create model\n",
        "model = LogisticRegression()\n",
        "# evaluate model\n",
        "scores = cross_val_score(model, X, y, scoring='accuracy', cv=cv, n_jobs=-1)\n",
        "# report performance\n",
        "print(scores)\n",
        "# rata-rata\n",
        "print('Accuracy: %.3f (%.3f)' % (mean(scores), std(scores)))\n"
      ],
      "execution_count": 3,
      "outputs": [
        {
          "output_type": "stream",
          "text": [
            "[0.89 0.82 0.92 0.88 0.91 0.82 0.86 0.86 0.85 0.87]\n",
            "Accuracy: 0.868 (0.032)\n"
          ],
          "name": "stdout"
        }
      ]
    }
  ]
}