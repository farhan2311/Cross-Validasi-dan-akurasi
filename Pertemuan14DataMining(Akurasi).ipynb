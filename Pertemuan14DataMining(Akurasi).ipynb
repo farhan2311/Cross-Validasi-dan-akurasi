{
  "nbformat": 4,
  "nbformat_minor": 0,
  "metadata": {
    "colab": {
      "name": "Pertemuan14DataMining(Akurasi).ipynb",
      "provenance": []
    },
    "kernelspec": {
      "name": "python3",
      "display_name": "Python 3"
    },
    "language_info": {
      "name": "python"
    }
  },
  "cells": [
    {
      "cell_type": "code",
      "metadata": {
        "colab": {
          "base_uri": "https://localhost:8080/"
        },
        "id": "YudNfg4R7QRN",
        "outputId": "a0440fd9-6ce6-4cc2-e5d7-7f4200d6934c"
      },
      "source": [
        "# import pustaka\n",
        "import numpy as np\n",
        "from sklearn.metrics import accuracy_score\n",
        "from sklearn.metrics import classification_report\n",
        "#data prediksi dan target\n",
        "target=[1,1,1,1,1,1,1,0,0,0,0,0,0]\n",
        "prediksi=[1,1,1,1,1,0,1,0,0,0,0,0,0]\n",
        "# mengetahui akurasi\n",
        "print(classification_report(target, prediksi))\n",
        "akurasi=accuracy_score(target,prediksi)\n",
        "print(\"Akurasi : \",round(akurasi,2)) #2 angka dibelakang koma"
      ],
      "execution_count": 1,
      "outputs": [
        {
          "output_type": "stream",
          "text": [
            "              precision    recall  f1-score   support\n",
            "\n",
            "           0       0.86      1.00      0.92         6\n",
            "           1       1.00      0.86      0.92         7\n",
            "\n",
            "    accuracy                           0.92        13\n",
            "   macro avg       0.93      0.93      0.92        13\n",
            "weighted avg       0.93      0.92      0.92        13\n",
            "\n",
            "Akurasi :  0.92\n"
          ],
          "name": "stdout"
        }
      ]
    }
  ]
}